{
 "cells": [
  {
   "cell_type": "code",
   "execution_count": 1,
   "id": "81c3666a-6cf5-4133-a9a3-a9b3d7db4b44",
   "metadata": {},
   "outputs": [
    {
     "data": {
      "text/plain": [
       "array([4952.64], dtype=float32)"
      ]
     },
     "execution_count": 1,
     "metadata": {},
     "output_type": "execute_result"
    }
   ],
   "source": [
    "#Deployment phase\n",
    "import pickle\n",
    "loaded_model=pickle.load(open(\"finalized_model_XGBoost.sav\",'rb'))\n",
    "result=loaded_model.predict([[35,24.6,2,True,False]])\n",
    "result"
   ]
  },
  {
   "cell_type": "code",
   "execution_count": null,
   "id": "b174444b-b523-48e7-9241-1222182bac8c",
   "metadata": {},
   "outputs": [],
   "source": []
  }
 ],
 "metadata": {
  "kernelspec": {
   "display_name": "Python [conda env:base] *",
   "language": "python",
   "name": "conda-base-py"
  },
  "language_info": {
   "codemirror_mode": {
    "name": "ipython",
    "version": 3
   },
   "file_extension": ".py",
   "mimetype": "text/x-python",
   "name": "python",
   "nbconvert_exporter": "python",
   "pygments_lexer": "ipython3",
   "version": "3.12.7"
  }
 },
 "nbformat": 4,
 "nbformat_minor": 5
}
