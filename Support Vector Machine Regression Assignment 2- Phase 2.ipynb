{
 "cells": [
  {
   "cell_type": "code",
   "execution_count": 2,
   "id": "2aef7b3d-84e6-418a-bd30-d92f7e8e1624",
   "metadata": {},
   "outputs": [
    {
     "data": {
      "text/plain": [
       "array([16589.18908958])"
      ]
     },
     "execution_count": 2,
     "metadata": {},
     "output_type": "execute_result"
    }
   ],
   "source": [
    "#Deployment\n",
    "import pickle\n",
    "loaded_model=pickle.load(open(\"finalized_model_svm2.sav\",'rb'))\n",
    "result=loaded_model.predict([[35,24.6,2,True,False]])\n",
    "result"
   ]
  },
  {
   "cell_type": "code",
   "execution_count": null,
   "id": "5fcbb034-9c5f-4fc0-ad61-3865e2457c25",
   "metadata": {},
   "outputs": [],
   "source": []
  }
 ],
 "metadata": {
  "kernelspec": {
   "display_name": "Python [conda env:base] *",
   "language": "python",
   "name": "conda-base-py"
  },
  "language_info": {
   "codemirror_mode": {
    "name": "ipython",
    "version": 3
   },
   "file_extension": ".py",
   "mimetype": "text/x-python",
   "name": "python",
   "nbconvert_exporter": "python",
   "pygments_lexer": "ipython3",
   "version": "3.12.7"
  }
 },
 "nbformat": 4,
 "nbformat_minor": 5
}
