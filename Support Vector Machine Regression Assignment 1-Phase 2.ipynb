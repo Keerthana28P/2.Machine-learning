{
 "cells": [
  {
   "cell_type": "code",
   "execution_count": 4,
   "id": "8d553a17-91d3-4d95-82a6-6e496f0f2f81",
   "metadata": {},
   "outputs": [],
   "source": [
    "#Deployment phase \n",
    "import pickle\n",
    "loaded_model=pickle.load(open(\"finalized_model_svm.sav\",'rb'))\n",
    "result=loaded_model.predict([[345,432,267,0,1]])\n",
    "\n"
   ]
  },
  {
   "cell_type": "code",
   "execution_count": 6,
   "id": "fb21d885-5d9b-42bf-8ed8-494bd82365a6",
   "metadata": {},
   "outputs": [
    {
     "data": {
      "text/plain": [
       "array([14313182.85428549])"
      ]
     },
     "execution_count": 6,
     "metadata": {},
     "output_type": "execute_result"
    }
   ],
   "source": [
    "result"
   ]
  },
  {
   "cell_type": "code",
   "execution_count": null,
   "id": "1bfa6592-ae8d-4884-ba65-a0bb609bdd48",
   "metadata": {},
   "outputs": [],
   "source": []
  }
 ],
 "metadata": {
  "kernelspec": {
   "display_name": "Python [conda env:base] *",
   "language": "python",
   "name": "conda-base-py"
  },
  "language_info": {
   "codemirror_mode": {
    "name": "ipython",
    "version": 3
   },
   "file_extension": ".py",
   "mimetype": "text/x-python",
   "name": "python",
   "nbconvert_exporter": "python",
   "pygments_lexer": "ipython3",
   "version": "3.12.7"
  }
 },
 "nbformat": 4,
 "nbformat_minor": 5
}
